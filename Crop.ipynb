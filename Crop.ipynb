# %%
# Importing necessary libraries
import numpy as np
import pandas as pd
import matplotlib.pyplot as plt
import seaborn as sns

# %%
# Loading the dataset
crop = pd.read_csv("Dataset/Crop_recommendation.csv")

# %%
# Display the first 5 rows of the dataset
crop.head()

# %%
# Display the last 5 rows of the dataset
crop.tail()

# %%
# Display the shape of the dataset (rows, columns)
crop.shape

# %%
# Display the info of the dataset (data types and non-null counts)
crop.info()

# %%
# Check for missing values in the dataset
crop.isnull().sum()

# %%
# Check for duplicated rows
crop.duplicated().sum()

# %%
# Display basic statistics of the dataset (mean, std, min, etc.)
crop.describe()

# %%
# Display all column names
crop.columns

# %%
# Check the distribution of values in the 'label' column
crop['label'].value_counts()
